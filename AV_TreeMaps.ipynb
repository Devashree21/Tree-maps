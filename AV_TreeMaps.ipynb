{
  "nbformat": 4,
  "nbformat_minor": 0,
  "metadata": {
    "colab": {
      "name": "AV_TreeMaps.ipynb",
      "provenance": [],
      "collapsed_sections": []
    },
    "kernelspec": {
      "name": "python3",
      "display_name": "Python 3"
    },
    "language_info": {
      "name": "python"
    }
  },
  "cells": [
    {
      "cell_type": "code",
      "metadata": {
        "colab": {
          "base_uri": "https://localhost:8080/"
        },
        "id": "5OzSQXM1XnGy",
        "outputId": "0d97456c-252d-4b3b-f731-39c272ba7c64"
      },
      "source": [
        "pip install pywaffle"
      ],
      "execution_count": 1,
      "outputs": [
        {
          "output_type": "stream",
          "name": "stdout",
          "text": [
            "Collecting pywaffle\n",
            "  Downloading pywaffle-0.6.3-py2.py3-none-any.whl (526 kB)\n",
            "\u001b[?25l\r\u001b[K     |▋                               | 10 kB 31.1 MB/s eta 0:00:01\r\u001b[K     |█▎                              | 20 kB 28.2 MB/s eta 0:00:01\r\u001b[K     |█▉                              | 30 kB 19.1 MB/s eta 0:00:01\r\u001b[K     |██▌                             | 40 kB 16.1 MB/s eta 0:00:01\r\u001b[K     |███                             | 51 kB 7.2 MB/s eta 0:00:01\r\u001b[K     |███▊                            | 61 kB 7.6 MB/s eta 0:00:01\r\u001b[K     |████▍                           | 71 kB 6.4 MB/s eta 0:00:01\r\u001b[K     |█████                           | 81 kB 7.2 MB/s eta 0:00:01\r\u001b[K     |█████▋                          | 92 kB 7.5 MB/s eta 0:00:01\r\u001b[K     |██████▏                         | 102 kB 6.8 MB/s eta 0:00:01\r\u001b[K     |██████▉                         | 112 kB 6.8 MB/s eta 0:00:01\r\u001b[K     |███████▌                        | 122 kB 6.8 MB/s eta 0:00:01\r\u001b[K     |████████                        | 133 kB 6.8 MB/s eta 0:00:01\r\u001b[K     |████████▊                       | 143 kB 6.8 MB/s eta 0:00:01\r\u001b[K     |█████████▎                      | 153 kB 6.8 MB/s eta 0:00:01\r\u001b[K     |██████████                      | 163 kB 6.8 MB/s eta 0:00:01\r\u001b[K     |██████████▋                     | 174 kB 6.8 MB/s eta 0:00:01\r\u001b[K     |███████████▏                    | 184 kB 6.8 MB/s eta 0:00:01\r\u001b[K     |███████████▉                    | 194 kB 6.8 MB/s eta 0:00:01\r\u001b[K     |████████████▍                   | 204 kB 6.8 MB/s eta 0:00:01\r\u001b[K     |█████████████                   | 215 kB 6.8 MB/s eta 0:00:01\r\u001b[K     |█████████████▊                  | 225 kB 6.8 MB/s eta 0:00:01\r\u001b[K     |██████████████▎                 | 235 kB 6.8 MB/s eta 0:00:01\r\u001b[K     |███████████████                 | 245 kB 6.8 MB/s eta 0:00:01\r\u001b[K     |███████████████▌                | 256 kB 6.8 MB/s eta 0:00:01\r\u001b[K     |████████████████▏               | 266 kB 6.8 MB/s eta 0:00:01\r\u001b[K     |████████████████▉               | 276 kB 6.8 MB/s eta 0:00:01\r\u001b[K     |█████████████████▍              | 286 kB 6.8 MB/s eta 0:00:01\r\u001b[K     |██████████████████              | 296 kB 6.8 MB/s eta 0:00:01\r\u001b[K     |██████████████████▋             | 307 kB 6.8 MB/s eta 0:00:01\r\u001b[K     |███████████████████▎            | 317 kB 6.8 MB/s eta 0:00:01\r\u001b[K     |████████████████████            | 327 kB 6.8 MB/s eta 0:00:01\r\u001b[K     |████████████████████▌           | 337 kB 6.8 MB/s eta 0:00:01\r\u001b[K     |█████████████████████▏          | 348 kB 6.8 MB/s eta 0:00:01\r\u001b[K     |█████████████████████▊          | 358 kB 6.8 MB/s eta 0:00:01\r\u001b[K     |██████████████████████▍         | 368 kB 6.8 MB/s eta 0:00:01\r\u001b[K     |███████████████████████         | 378 kB 6.8 MB/s eta 0:00:01\r\u001b[K     |███████████████████████▋        | 389 kB 6.8 MB/s eta 0:00:01\r\u001b[K     |████████████████████████▎       | 399 kB 6.8 MB/s eta 0:00:01\r\u001b[K     |████████████████████████▉       | 409 kB 6.8 MB/s eta 0:00:01\r\u001b[K     |█████████████████████████▌      | 419 kB 6.8 MB/s eta 0:00:01\r\u001b[K     |██████████████████████████▏     | 430 kB 6.8 MB/s eta 0:00:01\r\u001b[K     |██████████████████████████▊     | 440 kB 6.8 MB/s eta 0:00:01\r\u001b[K     |███████████████████████████▍    | 450 kB 6.8 MB/s eta 0:00:01\r\u001b[K     |████████████████████████████    | 460 kB 6.8 MB/s eta 0:00:01\r\u001b[K     |████████████████████████████▋   | 471 kB 6.8 MB/s eta 0:00:01\r\u001b[K     |█████████████████████████████▎  | 481 kB 6.8 MB/s eta 0:00:01\r\u001b[K     |█████████████████████████████▉  | 491 kB 6.8 MB/s eta 0:00:01\r\u001b[K     |██████████████████████████████▌ | 501 kB 6.8 MB/s eta 0:00:01\r\u001b[K     |███████████████████████████████ | 512 kB 6.8 MB/s eta 0:00:01\r\u001b[K     |███████████████████████████████▊| 522 kB 6.8 MB/s eta 0:00:01\r\u001b[K     |████████████████████████████████| 526 kB 6.8 MB/s \n",
            "\u001b[?25hRequirement already satisfied: matplotlib in /usr/local/lib/python3.7/dist-packages (from pywaffle) (3.2.2)\n",
            "Requirement already satisfied: pyparsing!=2.0.4,!=2.1.2,!=2.1.6,>=2.0.1 in /usr/local/lib/python3.7/dist-packages (from matplotlib->pywaffle) (2.4.7)\n",
            "Requirement already satisfied: numpy>=1.11 in /usr/local/lib/python3.7/dist-packages (from matplotlib->pywaffle) (1.19.5)\n",
            "Requirement already satisfied: python-dateutil>=2.1 in /usr/local/lib/python3.7/dist-packages (from matplotlib->pywaffle) (2.8.2)\n",
            "Requirement already satisfied: cycler>=0.10 in /usr/local/lib/python3.7/dist-packages (from matplotlib->pywaffle) (0.10.0)\n",
            "Requirement already satisfied: kiwisolver>=1.0.1 in /usr/local/lib/python3.7/dist-packages (from matplotlib->pywaffle) (1.3.2)\n",
            "Requirement already satisfied: six in /usr/local/lib/python3.7/dist-packages (from cycler>=0.10->matplotlib->pywaffle) (1.15.0)\n",
            "Installing collected packages: pywaffle\n",
            "Successfully installed pywaffle-0.6.3\n"
          ]
        }
      ]
    },
    {
      "cell_type": "code",
      "metadata": {
        "colab": {
          "base_uri": "https://localhost:8080/"
        },
        "id": "XOqIEYdYsQx4",
        "outputId": "8e2c94cf-587f-4ce8-97a4-a604f09fe090"
      },
      "source": [
        "pip install squarify"
      ],
      "execution_count": 2,
      "outputs": [
        {
          "output_type": "stream",
          "name": "stdout",
          "text": [
            "Collecting squarify\n",
            "  Downloading squarify-0.4.3-py3-none-any.whl (4.3 kB)\n",
            "Installing collected packages: squarify\n",
            "Successfully installed squarify-0.4.3\n"
          ]
        }
      ]
    },
    {
      "cell_type": "code",
      "metadata": {
        "colab": {
          "base_uri": "https://localhost:8080/"
        },
        "id": "WImJYB3hshQT",
        "outputId": "139b75bd-74b3-4ef2-be53-20153934a973"
      },
      "source": [
        "pip install pygal"
      ],
      "execution_count": 3,
      "outputs": [
        {
          "output_type": "stream",
          "name": "stdout",
          "text": [
            "Collecting pygal\n",
            "  Downloading pygal-2.4.0-py2.py3-none-any.whl (127 kB)\n",
            "\u001b[?25l\r\u001b[K     |██▋                             | 10 kB 31.2 MB/s eta 0:00:01\r\u001b[K     |█████▏                          | 20 kB 32.8 MB/s eta 0:00:01\r\u001b[K     |███████▊                        | 30 kB 22.0 MB/s eta 0:00:01\r\u001b[K     |██████████▎                     | 40 kB 18.1 MB/s eta 0:00:01\r\u001b[K     |████████████▉                   | 51 kB 9.0 MB/s eta 0:00:01\r\u001b[K     |███████████████▍                | 61 kB 9.5 MB/s eta 0:00:01\r\u001b[K     |██████████████████              | 71 kB 8.0 MB/s eta 0:00:01\r\u001b[K     |████████████████████▌           | 81 kB 8.9 MB/s eta 0:00:01\r\u001b[K     |███████████████████████▏        | 92 kB 7.6 MB/s eta 0:00:01\r\u001b[K     |█████████████████████████▊      | 102 kB 8.3 MB/s eta 0:00:01\r\u001b[K     |████████████████████████████▎   | 112 kB 8.3 MB/s eta 0:00:01\r\u001b[K     |██████████████████████████████▉ | 122 kB 8.3 MB/s eta 0:00:01\r\u001b[K     |████████████████████████████████| 127 kB 8.3 MB/s \n",
            "\u001b[?25hInstalling collected packages: pygal\n",
            "Successfully installed pygal-2.4.0\n"
          ]
        }
      ]
    },
    {
      "cell_type": "code",
      "metadata": {
        "colab": {
          "base_uri": "https://localhost:8080/"
        },
        "id": "OfynplKYsTE0",
        "outputId": "8d482ce7-aab2-47b9-d2c5-65ef66b45603"
      },
      "source": [
        "pip install plotly-express"
      ],
      "execution_count": 4,
      "outputs": [
        {
          "output_type": "stream",
          "name": "stdout",
          "text": [
            "Collecting plotly-express\n",
            "  Downloading plotly_express-0.4.1-py2.py3-none-any.whl (2.9 kB)\n",
            "Requirement already satisfied: plotly>=4.1.0 in /usr/local/lib/python3.7/dist-packages (from plotly-express) (4.4.1)\n",
            "Requirement already satisfied: scipy>=0.18 in /usr/local/lib/python3.7/dist-packages (from plotly-express) (1.4.1)\n",
            "Requirement already satisfied: statsmodels>=0.9.0 in /usr/local/lib/python3.7/dist-packages (from plotly-express) (0.10.2)\n",
            "Requirement already satisfied: numpy>=1.11 in /usr/local/lib/python3.7/dist-packages (from plotly-express) (1.19.5)\n",
            "Requirement already satisfied: patsy>=0.5 in /usr/local/lib/python3.7/dist-packages (from plotly-express) (0.5.2)\n",
            "Requirement already satisfied: pandas>=0.20.0 in /usr/local/lib/python3.7/dist-packages (from plotly-express) (1.1.5)\n",
            "Requirement already satisfied: pytz>=2017.2 in /usr/local/lib/python3.7/dist-packages (from pandas>=0.20.0->plotly-express) (2018.9)\n",
            "Requirement already satisfied: python-dateutil>=2.7.3 in /usr/local/lib/python3.7/dist-packages (from pandas>=0.20.0->plotly-express) (2.8.2)\n",
            "Requirement already satisfied: six in /usr/local/lib/python3.7/dist-packages (from patsy>=0.5->plotly-express) (1.15.0)\n",
            "Requirement already satisfied: retrying>=1.3.3 in /usr/local/lib/python3.7/dist-packages (from plotly>=4.1.0->plotly-express) (1.3.3)\n",
            "Installing collected packages: plotly-express\n",
            "Successfully installed plotly-express-0.4.1\n"
          ]
        }
      ]
    },
    {
      "cell_type": "code",
      "metadata": {
        "colab": {
          "base_uri": "https://localhost:8080/"
        },
        "id": "5uUVQyLfsktU",
        "outputId": "4a1336cb-0c69-4b2f-8f66-6931014eb30d"
      },
      "source": [
        "pip install --upgrade plotly"
      ],
      "execution_count": 5,
      "outputs": [
        {
          "output_type": "stream",
          "name": "stdout",
          "text": [
            "Requirement already satisfied: plotly in /usr/local/lib/python3.7/dist-packages (4.4.1)\n",
            "Collecting plotly\n",
            "  Downloading plotly-5.3.1-py2.py3-none-any.whl (23.9 MB)\n",
            "\u001b[K     |████████████████████████████████| 23.9 MB 1.5 MB/s \n",
            "\u001b[?25hCollecting tenacity>=6.2.0\n",
            "  Downloading tenacity-8.0.1-py3-none-any.whl (24 kB)\n",
            "Requirement already satisfied: six in /usr/local/lib/python3.7/dist-packages (from plotly) (1.15.0)\n",
            "Installing collected packages: tenacity, plotly\n",
            "  Attempting uninstall: plotly\n",
            "    Found existing installation: plotly 4.4.1\n",
            "    Uninstalling plotly-4.4.1:\n",
            "      Successfully uninstalled plotly-4.4.1\n",
            "Successfully installed plotly-5.3.1 tenacity-8.0.1\n"
          ]
        }
      ]
    },
    {
      "cell_type": "code",
      "metadata": {
        "id": "vBl1jgUAW9wL"
      },
      "source": [
        "import pandas as pd\n",
        "import numpy as np\n",
        "import seaborn as sns\n",
        "import matplotlib.pyplot as plt\n",
        "%matplotlib inline\n",
        "import plotly.express as px\n",
        "import squarify"
      ],
      "execution_count": 6,
      "outputs": []
    },
    {
      "cell_type": "code",
      "metadata": {
        "id": "AXNfa1KzsLSi",
        "colab": {
          "base_uri": "https://localhost:8080/",
          "height": 132
        },
        "outputId": "5d4698f2-a056-42d2-c8a6-84dd48c71682"
      },
      "source": [
        "#Defining Colors for visualization\n",
        "colors=['#fae588','#f79d65','#f9dc5c','#e8ac65','#e76f51','#ef233c','#b7094c']\n",
        "palette = sns.color_palette(palette = colors)\n",
        "\n",
        "sns.palplot(palette, size =1.5)\n",
        "plt.title(\"Color Palette\")\n",
        "plt.show()"
      ],
      "execution_count": 7,
      "outputs": [
        {
          "output_type": "display_data",
          "data": {
            "image/png": "[encoded data removed]",
            "text/plain": [
              "<Figure size 756x108 with 1 Axes>"
            ]
          },
          "metadata": {
            "needs_background": "light"
          }
        }
      ]
    },
    {
      "cell_type": "code",
      "metadata": {
        "colab": {
          "base_uri": "https://localhost:8080/",
          "height": 248
        },
        "id": "dQs8XYxmXQfL",
        "outputId": "be32e05e-4b2e-4551-a3f7-bd37dc4f3698"
      },
      "source": [
        "#sample pie chart in Matplotlib\n",
        "labels = 'A', 'B', 'C', 'D'\n",
        "sizes = [10, 15, 30, 45]\n",
        "fig1, ax1 = plt.subplots()\n",
        "ax1.pie(sizes, labels=labels, colors=colors,autopct='%1.1f%%', startangle=90, shadow=True)\n",
        "ax1.axis('equal')  # Equal aspect ratio ensures that pie is drawn as a circle.\n",
        "plt.show()"
      ],
      "execution_count": 8,
      "outputs": [
        {
          "output_type": "display_data",
          "data": {
            "image/png": "[encoded data removed]",
            "text/plain": [
              "<Figure size 432x288 with 1 Axes>"
            ]
          },
          "metadata": {}
        }
      ]
    },
    {
      "cell_type": "code",
      "metadata": {
        "colab": {
          "base_uri": "https://localhost:8080/",
          "height": 209
        },
        "id": "kGlj-IjhaoIg",
        "outputId": "b7a36abf-fdb1-40d0-cff7-579b8cc26c67"
      },
      "source": [
        "#sample waffle chart using pywaffle\n",
        "colors=['#fae588','#f79d65','#f9dc5c','#e8ac65']\n",
        "from pywaffle import Waffle\n",
        "fig = plt.figure(\n",
        "    FigureClass=Waffle,\n",
        "    rows=5,\n",
        "    columns=10,  # Either rows or columns could be omitted\n",
        "    values={'A':10, 'B':15,'C':30,'D':45},\n",
        "    block_arranging_style='new-line',\n",
        "    vertical=False,\n",
        "    colors=colors,\n",
        "    legend={'loc': 'upper left', 'bbox_to_anchor': (1, 1)}\n",
        ")\n",
        "fig.show()"
      ],
      "execution_count": 9,
      "outputs": [
        {
          "output_type": "display_data",
          "data": {
            "image/png": "[encoded data removed]",
            "text/plain": [
              "<Waffle size 432x288 with 1 Axes>"
            ]
          },
          "metadata": {
            "needs_background": "light"
          }
        }
      ]
    },
    {
      "cell_type": "markdown",
      "metadata": {
        "id": "7bbsCd-Ns591"
      },
      "source": [
        "# Sample TreeMap use cases"
      ]
    },
    {
      "cell_type": "markdown",
      "metadata": {
        "id": "mxFz8XsStD5e"
      },
      "source": [
        "#1.\tDisplaying region-wise customer complaints for a product"
      ]
    },
    {
      "cell_type": "code",
      "metadata": {
        "colab": {
          "base_uri": "https://localhost:8080/",
          "height": 317
        },
        "id": "SFuQssgxtER_",
        "outputId": "a85dec3f-cc91-4a24-e910-eff33e961c16"
      },
      "source": [
        "import plotly.graph_objects as go\n",
        "\n",
        "fig = go.Figure(go.Treemap(\n",
        "    labels = [\"Regions\",\"East\", \"West\", \"North\", \"South\",\"C1\",\"C2\",\"C3\",\"C4\",\"C5\",\"C6\",\"C7\",\"C8\",\"C9\",\"C10\"],\n",
        "    parents = [\"\", \"Regions\",\"Regions\",\"Regions\",\"Regions\",\"East\",\"East\",\"West\",\"North\",\"East\",\"North\",\"West\",\"South\",\"East\",\"West\",\"North\"],\n",
        "    root_color=\"lightgrey\"\n",
        "))\n",
        "fig.update_layout(width=400, height=300,margin = dict(t=10, l=5, r=15, b=5),treemapcolorway = colors)\n",
        "fig.show()"
      ],
      "execution_count": 10,
      "outputs": [
        {
          "output_type": "display_data",
          "data": {
            "text/html": [
              "<html>\n",
              "<head><meta charset=\"utf-8\" /></head>\n",
              "<body>\n",
              "    <div>            <script src=\"https://cdnjs.cloudflare.com/ajax/libs/mathjax/2.7.5/MathJax.js?config=TeX-AMS-MML_SVG\"></script><script type=\"text/javascript\">if (window.MathJax) {MathJax.Hub.Config({SVG: {font: \"STIX-Web\"}});}</script>                <script type=\"text/javascript\">window.PlotlyConfig = {MathJaxConfig: 'local'};</script>\n",
              "        <script src=\"https://cdn.plot.ly/plotly-2.4.2.min.js\"></script>                <div id=\"28e0dc87-9b70-4b93-8123-b2378b8506df\" class=\"plotly-graph-div\" style=\"height:300px; width:400px;\"></div>            <script type=\"text/javascript\">                                    window.PLOTLYENV=window.PLOTLYENV || {};                                    if (document.getElementById(\"28e0dc87-9b70-4b93-8123-b2378b8506df\")) {                    Plotly.newPlot(                        \"28e0dc87-9b70-4b93-8123-b2378b8506df\",                        [{\"labels\":[\"Regions\",\"East\",\"West\",\"North\",\"South\",\"C1\",\"C2\",\"C3\",\"C4\",\"C5\",\"C6\",\"C7\",\"C8\",\"C9\",\"C10\"],\"parents\":[\"\",\"Regions\",\"Regions\",\"Regions\",\"Regions\",\"East\",\"East\",\"West\",\"North\",\"East\",\"North\",\"West\",\"South\",\"East\",\"West\",\"North\"],\"root\":{\"color\":\"lightgrey\"},\"type\":\"treemap\"}],                        {\"height\":300,\"margin\":{\"b\":5,\"l\":5,\"r\":15,\"t\":10},\"template\":{\"data\":{\"bar\":[{\"error_x\":{\"color\":\"#2a3f5f\"},\"error_y\":{\"color\":\"#2a3f5f\"},\"marker\":{\"line\":{\"color\":\"#E5ECF6\",\"width\":0.5},\"pattern\":{\"fillmode\":\"overlay\",\"size\":10,\"solidity\":0.2}},\"type\":\"bar\"}],\"barpolar\":[{\"marker\":{\"line\":{\"color\":\"#E5ECF6\",\"width\":0.5},\"pattern\":{\"fillmode\":\"overlay\",\"size\":10,\"solidity\":0.2}},\"type\":\"barpolar\"}],\"carpet\":[{\"aaxis\":{\"endlinecolor\":\"#2a3f5f\",\"gridcolor\":\"white\",\"linecolor\":\"white\",\"minorgridcolor\":\"white\",\"startlinecolor\":\"#2a3f5f\"},\"baxis\":{\"endlinecolor\":\"#2a3f5f\",\"gridcolor\":\"white\",\"linecolor\":\"white\",\"minorgridcolor\":\"white\",\"startlinecolor\":\"#2a3f5f\"},\"type\":\"carpet\"}],\"choropleth\":[{\"colorbar\":{\"outlinewidth\":0,\"ticks\":\"\"},\"type\":\"choropleth\"}],\"contour\":[{\"colorbar\":{\"outlinewidth\":0,\"ticks\":\"\"},\"colorscale\":[[0.0,\"#0d0887\"],[0.1111111111111111,\"#46039f\"],[0.2222222222222222,\"#7201a8\"],[0.3333333333333333,\"#9c179e\"],[0.4444444444444444,\"#bd3786\"],[0.5555555555555556,\"#d8576b\"],[0.6666666666666666,\"#ed7953\"],[0.7777777777777778,\"#fb9f3a\"],[0.8888888888888888,\"#fdca26\"],[1.0,\"#f0f921\"]],\"type\":\"contour\"}],\"contourcarpet\":[{\"colorbar\":{\"outlinewidth\":0,\"ticks\":\"\"},\"type\":\"contourcarpet\"}],\"heatmap\":[{\"colorbar\":{\"outlinewidth\":0,\"ticks\":\"\"},\"colorscale\":[[0.0,\"#0d0887\"],[0.1111111111111111,\"#46039f\"],[0.2222222222222222,\"#7201a8\"],[0.3333333333333333,\"#9c179e\"],[0.4444444444444444,\"#bd3786\"],[0.5555555555555556,\"#d8576b\"],[0.6666666666666666,\"#ed7953\"],[0.7777777777777778,\"#fb9f3a\"],[0.8888888888888888,\"#fdca26\"],[1.0,\"#f0f921\"]],\"type\":\"heatmap\"}],\"heatmapgl\":[{\"colorbar\":{\"outlinewidth\":0,\"ticks\":\"\"},\"colorscale\":[[0.0,\"#0d0887\"],[0.1111111111111111,\"#46039f\"],[0.2222222222222222,\"#7201a8\"],[0.3333333333333333,\"#9c179e\"],[0.4444444444444444,\"#bd3786\"],[0.5555555555555556,\"#d8576b\"],[0.6666666666666666,\"#ed7953\"],[0.7777777777777778,\"#fb9f3a\"],[0.8888888888888888,\"#fdca26\"],[1.0,\"#f0f921\"]],\"type\":\"heatmapgl\"}],\"histogram\":[{\"marker\":{\"pattern\":{\"fillmode\":\"overlay\",\"size\":10,\"solidity\":0.2}},\"type\":\"histogram\"}],\"histogram2d\":[{\"colorbar\":{\"outlinewidth\":0,\"ticks\":\"\"},\"colorscale\":[[0.0,\"#0d0887\"],[0.1111111111111111,\"#46039f\"],[0.2222222222222222,\"#7201a8\"],[0.3333333333333333,\"#9c179e\"],[0.4444444444444444,\"#bd3786\"],[0.5555555555555556,\"#d8576b\"],[0.6666666666666666,\"#ed7953\"],[0.7777777777777778,\"#fb9f3a\"],[0.8888888888888888,\"#fdca26\"],[1.0,\"#f0f921\"]],\"type\":\"histogram2d\"}],\"histogram2dcontour\":[{\"colorbar\":{\"outlinewidth\":0,\"ticks\":\"\"},\"colorscale\":[[0.0,\"#0d0887\"],[0.1111111111111111,\"#46039f\"],[0.2222222222222222,\"#7201a8\"],[0.3333333333333333,\"#9c179e\"],[0.4444444444444444,\"#bd3786\"],[0.5555555555555556,\"#d8576b\"],[0.6666666666666666,\"#ed7953\"],[0.7777777777777778,\"#fb9f3a\"],[0.8888888888888888,\"#fdca26\"],[1.0,\"#f0f921\"]],\"type\":\"histogram2dcontour\"}],\"mesh3d\":[{\"colorbar\":{\"outlinewidth\":0,\"ticks\":\"\"},\"type\":\"mesh3d\"}],\"parcoords\":[{\"line\":{\"colorbar\":{\"outlinewidth\":0,\"ticks\":\"\"}},\"type\":\"parcoords\"}],\"pie\":[{\"automargin\":true,\"type\":\"pie\"}],\"scatter\":[{\"marker\":{\"colorbar\":{\"outlinewidth\":0,\"ticks\":\"\"}},\"type\":\"scatter\"}],\"scatter3d\":[{\"line\":{\"colorbar\":{\"outlinewidth\":0,\"ticks\":\"\"}},\"marker\":{\"colorbar\":{\"outlinewidth\":0,\"ticks\":\"\"}},\"type\":\"scatter3d\"}],\"scattercarpet\":[{\"marker\":{\"colorbar\":{\"outlinewidth\":0,\"ticks\":\"\"}},\"type\":\"scattercarpet\"}],\"scattergeo\":[{\"marker\":{\"colorbar\":{\"outlinewidth\":0,\"ticks\":\"\"}},\"type\":\"scattergeo\"}],\"scattergl\":[{\"marker\":{\"colorbar\":{\"outlinewidth\":0,\"ticks\":\"\"}},\"type\":\"scattergl\"}],\"scattermapbox\":[{\"marker\":{\"colorbar\":{\"outlinewidth\":0,\"ticks\":\"\"}},\"type\":\"scattermapbox\"}],\"scatterpolar\":[{\"marker\":{\"colorbar\":{\"outlinewidth\":0,\"ticks\":\"\"}},\"type\":\"scatterpolar\"}],\"scatterpolargl\":[{\"marker\":{\"colorbar\":{\"outlinewidth\":0,\"ticks\":\"\"}},\"type\":\"scatterpolargl\"}],\"scatterternary\":[{\"marker\":{\"colorbar\":{\"outlinewidth\":0,\"ticks\":\"\"}},\"type\":\"scatterternary\"}],\"surface\":[{\"colorbar\":{\"outlinewidth\":0,\"ticks\":\"\"},\"colorscale\":[[0.0,\"#0d0887\"],[0.1111111111111111,\"#46039f\"],[0.2222222222222222,\"#7201a8\"],[0.3333333333333333,\"#9c179e\"],[0.4444444444444444,\"#bd3786\"],[0.5555555555555556,\"#d8576b\"],[0.6666666666666666,\"#ed7953\"],[0.7777777777777778,\"#fb9f3a\"],[0.8888888888888888,\"#fdca26\"],[1.0,\"#f0f921\"]],\"type\":\"surface\"}],\"table\":[{\"cells\":{\"fill\":{\"color\":\"#EBF0F8\"},\"line\":{\"color\":\"white\"}},\"header\":{\"fill\":{\"color\":\"#C8D4E3\"},\"line\":{\"color\":\"white\"}},\"type\":\"table\"}]},\"layout\":{\"annotationdefaults\":{\"arrowcolor\":\"#2a3f5f\",\"arrowhead\":0,\"arrowwidth\":1},\"autotypenumbers\":\"strict\",\"coloraxis\":{\"colorbar\":{\"outlinewidth\":0,\"ticks\":\"\"}},\"colorscale\":{\"diverging\":[[0,\"#8e0152\"],[0.1,\"#c51b7d\"],[0.2,\"#de77ae\"],[0.3,\"#f1b6da\"],[0.4,\"#fde0ef\"],[0.5,\"#f7f7f7\"],[0.6,\"#e6f5d0\"],[0.7,\"#b8e186\"],[0.8,\"#7fbc41\"],[0.9,\"#4d9221\"],[1,\"#276419\"]],\"sequential\":[[0.0,\"#0d0887\"],[0.1111111111111111,\"#46039f\"],[0.2222222222222222,\"#7201a8\"],[0.3333333333333333,\"#9c179e\"],[0.4444444444444444,\"#bd3786\"],[0.5555555555555556,\"#d8576b\"],[0.6666666666666666,\"#ed7953\"],[0.7777777777777778,\"#fb9f3a\"],[0.8888888888888888,\"#fdca26\"],[1.0,\"#f0f921\"]],\"sequentialminus\":[[0.0,\"#0d0887\"],[0.1111111111111111,\"#46039f\"],[0.2222222222222222,\"#7201a8\"],[0.3333333333333333,\"#9c179e\"],[0.4444444444444444,\"#bd3786\"],[0.5555555555555556,\"#d8576b\"],[0.6666666666666666,\"#ed7953\"],[0.7777777777777778,\"#fb9f3a\"],[0.8888888888888888,\"#fdca26\"],[1.0,\"#f0f921\"]]},\"colorway\":[\"#636efa\",\"#EF553B\",\"#00cc96\",\"#ab63fa\",\"#FFA15A\",\"#19d3f3\",\"#FF6692\",\"#B6E880\",\"#FF97FF\",\"#FECB52\"],\"font\":{\"color\":\"#2a3f5f\"},\"geo\":{\"bgcolor\":\"white\",\"lakecolor\":\"white\",\"landcolor\":\"#E5ECF6\",\"showlakes\":true,\"showland\":true,\"subunitcolor\":\"white\"},\"hoverlabel\":{\"align\":\"left\"},\"hovermode\":\"closest\",\"mapbox\":{\"style\":\"light\"},\"paper_bgcolor\":\"white\",\"plot_bgcolor\":\"#E5ECF6\",\"polar\":{\"angularaxis\":{\"gridcolor\":\"white\",\"linecolor\":\"white\",\"ticks\":\"\"},\"bgcolor\":\"#E5ECF6\",\"radialaxis\":{\"gridcolor\":\"white\",\"linecolor\":\"white\",\"ticks\":\"\"}},\"scene\":{\"xaxis\":{\"backgroundcolor\":\"#E5ECF6\",\"gridcolor\":\"white\",\"gridwidth\":2,\"linecolor\":\"white\",\"showbackground\":true,\"ticks\":\"\",\"zerolinecolor\":\"white\"},\"yaxis\":{\"backgroundcolor\":\"#E5ECF6\",\"gridcolor\":\"white\",\"gridwidth\":2,\"linecolor\":\"white\",\"showbackground\":true,\"ticks\":\"\",\"zerolinecolor\":\"white\"},\"zaxis\":{\"backgroundcolor\":\"#E5ECF6\",\"gridcolor\":\"white\",\"gridwidth\":2,\"linecolor\":\"white\",\"showbackground\":true,\"ticks\":\"\",\"zerolinecolor\":\"white\"}},\"shapedefaults\":{\"line\":{\"color\":\"#2a3f5f\"}},\"ternary\":{\"aaxis\":{\"gridcolor\":\"white\",\"linecolor\":\"white\",\"ticks\":\"\"},\"baxis\":{\"gridcolor\":\"white\",\"linecolor\":\"white\",\"ticks\":\"\"},\"bgcolor\":\"#E5ECF6\",\"caxis\":{\"gridcolor\":\"white\",\"linecolor\":\"white\",\"ticks\":\"\"}},\"title\":{\"x\":0.05},\"xaxis\":{\"automargin\":true,\"gridcolor\":\"white\",\"linecolor\":\"white\",\"ticks\":\"\",\"title\":{\"standoff\":15},\"zerolinecolor\":\"white\",\"zerolinewidth\":2},\"yaxis\":{\"automargin\":true,\"gridcolor\":\"white\",\"linecolor\":\"white\",\"ticks\":\"\",\"title\":{\"standoff\":15},\"zerolinecolor\":\"white\",\"zerolinewidth\":2}}},\"treemapcolorway\":[\"#fae588\",\"#f79d65\",\"#f9dc5c\",\"#e8ac65\"],\"width\":400},                        {\"responsive\": true}                    ).then(function(){\n",
              "                            \n",
              "var gd = document.getElementById('28e0dc87-9b70-4b93-8123-b2378b8506df');\n",
              "var x = new MutationObserver(function (mutations, observer) {{\n",
              "        var display = window.getComputedStyle(gd).display;\n",
              "        if (!display || display === 'none') {{\n",
              "            console.log([gd, 'removed!']);\n",
              "            Plotly.purge(gd);\n",
              "            observer.disconnect();\n",
              "        }}\n",
              "}});\n",
              "\n",
              "// Listen for the removal of the full notebook cells\n",
              "var notebookContainer = gd.closest('#notebook-container');\n",
              "if (notebookContainer) {{\n",
              "    x.observe(notebookContainer, {childList: true});\n",
              "}}\n",
              "\n",
              "// Listen for the clearing of the current output cell\n",
              "var outputEl = gd.closest('.output');\n",
              "if (outputEl) {{\n",
              "    x.observe(outputEl, {childList: true});\n",
              "}}\n",
              "\n",
              "                        })                };                            </script>        </div>\n",
              "</body>\n",
              "</html>"
            ]
          },
          "metadata": {}
        }
      ]
    },
    {
      "cell_type": "markdown",
      "metadata": {
        "id": "U9hIQVzxs-hX"
      },
      "source": [
        "#2.\tShowcasing category-wise product availability like mobile phones"
      ]
    },
    {
      "cell_type": "code",
      "metadata": {
        "colab": {
          "base_uri": "https://localhost:8080/",
          "height": 264
        },
        "id": "YtMh5sSzsG5v",
        "outputId": "7b69f50a-3211-4c18-d677-1ad2eb04b923"
      },
      "source": [
        "sizes=[15, 55,25, 10]\n",
        "label=[\"Low-end\", \"Mid-Range\", \"Premium\",\"Top-End\",]\n",
        "squarify.plot(sizes=sizes, label=label, alpha=0.6,color=colors)\n",
        "plt.title('Category-wise sales of mobile phones')\n",
        "plt.axis('off')\n",
        "plt.show()"
      ],
      "execution_count": 11,
      "outputs": [
        {
          "output_type": "display_data",
          "data": {
            "image/png": "[encoded data removed]",
            "text/plain": [
              "<Figure size 432x288 with 1 Axes>"
            ]
          },
          "metadata": {
            "needs_background": "light"
          }
        }
      ]
    },
    {
      "cell_type": "markdown",
      "metadata": {
        "id": "TeS6K919zwWo"
      },
      "source": [
        "#3.\tExplore customer segmentation for a product"
      ]
    },
    {
      "cell_type": "code",
      "metadata": {
        "colab": {
          "base_uri": "https://localhost:8080/",
          "height": 264
        },
        "id": "SU37jKGusG9S",
        "outputId": "0b10a151-8695-4701-a043-f85a46f1a1bb"
      },
      "source": [
        "sizes=[5, 15, 25, 40,15]\n",
        "label=[\"Baby\",\"Kids\",\"Teens/Young Adults\", \"Adults\", \"Seniors\"]\n",
        "squarify.plot(sizes=sizes, label=label, alpha=0.6,color=['#ffadad','#fae588','#f79d65','#f9dc5c','#e8ac65'])\n",
        "plt.title('Age wise customer segmentation for Product')\n",
        "plt.axis('off')\n",
        "plt.show()"
      ],
      "execution_count": 12,
      "outputs": [
        {
          "output_type": "display_data",
          "data": {
            "image/png": "[encoded data removed]",
            "text/plain": [
              "<Figure size 432x288 with 1 Axes>"
            ]
          },
          "metadata": {
            "needs_background": "light"
          }
        }
      ]
    },
    {
      "cell_type": "markdown",
      "metadata": {
        "id": "RTzJUmyWkuxO"
      },
      "source": [
        "# Sample dataframe"
      ]
    },
    {
      "cell_type": "code",
      "metadata": {
        "colab": {
          "base_uri": "https://localhost:8080/",
          "height": 264
        },
        "id": "jXzsPHGzkvUI",
        "outputId": "98724058-442d-4b4b-cf09-c57faf929b2f"
      },
      "source": [
        "data = {'labels': [\"A\",\"B\",\"C\",\"D\",\"E\",\"F\",\"G\"],\n",
        "        'values':[10,20,25,35,10,25,45]}\n",
        "df = pd.DataFrame(data)\n",
        "df"
      ],
      "execution_count": 13,
      "outputs": [
        {
          "output_type": "execute_result",
          "data": {
            "text/html": [
              "<div>\n",
              "<style scoped>\n",
              "    .dataframe tbody tr th:only-of-type {\n",
              "        vertical-align: middle;\n",
              "    }\n",
              "\n",
              "    .dataframe tbody tr th {\n",
              "        vertical-align: top;\n",
              "    }\n",
              "\n",
              "    .dataframe thead th {\n",
              "        text-align: right;\n",
              "    }\n",
              "</style>\n",
              "<table border=\"1\" class=\"dataframe\">\n",
              "  <thead>\n",
              "    <tr style=\"text-align: right;\">\n",
              "      <th></th>\n",
              "      <th>labels</th>\n",
              "      <th>values</th>\n",
              "    </tr>\n",
              "  </thead>\n",
              "  <tbody>\n",
              "    <tr>\n",
              "      <th>0</th>\n",
              "      <td>A</td>\n",
              "      <td>10</td>\n",
              "    </tr>\n",
              "    <tr>\n",
              "      <th>1</th>\n",
              "      <td>B</td>\n",
              "      <td>20</td>\n",
              "    </tr>\n",
              "    <tr>\n",
              "      <th>2</th>\n",
              "      <td>C</td>\n",
              "      <td>25</td>\n",
              "    </tr>\n",
              "    <tr>\n",
              "      <th>3</th>\n",
              "      <td>D</td>\n",
              "      <td>35</td>\n",
              "    </tr>\n",
              "    <tr>\n",
              "      <th>4</th>\n",
              "      <td>E</td>\n",
              "      <td>10</td>\n",
              "    </tr>\n",
              "    <tr>\n",
              "      <th>5</th>\n",
              "      <td>F</td>\n",
              "      <td>25</td>\n",
              "    </tr>\n",
              "    <tr>\n",
              "      <th>6</th>\n",
              "      <td>G</td>\n",
              "      <td>45</td>\n",
              "    </tr>\n",
              "  </tbody>\n",
              "</table>\n",
              "</div>"
            ],
            "text/plain": [
              "  labels  values\n",
              "0      A      10\n",
              "1      B      20\n",
              "2      C      25\n",
              "3      D      35\n",
              "4      E      10\n",
              "5      F      25\n",
              "6      G      45"
            ]
          },
          "metadata": {},
          "execution_count": 13
        }
      ]
    },
    {
      "cell_type": "markdown",
      "metadata": {
        "id": "IA8RqyJU5jdR"
      },
      "source": [
        "#1. Creating a TreeMap with Squarify and Seaborn"
      ]
    },
    {
      "cell_type": "code",
      "metadata": {
        "colab": {
          "base_uri": "https://localhost:8080/",
          "height": 264
        },
        "id": "HeWAcARsk3iR",
        "outputId": "882948ae-728d-4a7b-b69a-822528ff3fd1"
      },
      "source": [
        "import squarify \n",
        "sns.set_style(style=\"whitegrid\")\n",
        "sizes= df[\"values\"].values# proportions of the categories\n",
        "label=df[\"labels\"]\n",
        "squarify.plot(sizes=sizes, label=label, alpha=0.8,color=colors).set(title='Treemap with Squarify')\n",
        "plt.axis('off')\n",
        "plt.show()"
      ],
      "execution_count": 14,
      "outputs": [
        {
          "output_type": "display_data",
          "data": {
            "image/png": "[encoded data removed]",
            "text/plain": [
              "<Figure size 432x288 with 1 Axes>"
            ]
          },
          "metadata": {}
        }
      ]
    },
    {
      "cell_type": "markdown",
      "metadata": {
        "id": "Kx8YhDEy5p3q"
      },
      "source": [
        "#2. Creating a TreeMap with Pygal"
      ]
    },
    {
      "cell_type": "code",
      "metadata": {
        "colab": {
          "base_uri": "https://localhost:8080/"
        },
        "id": "yTxPvjl4717P",
        "outputId": "9899ef5a-5b66-4420-80ce-15ade7eb93e5"
      },
      "source": [
        "pip install CairoSVG"
      ],
      "execution_count": 15,
      "outputs": [
        {
          "output_type": "stream",
          "name": "stdout",
          "text": [
            "Collecting CairoSVG\n",
            "  Downloading CairoSVG-2.5.2-py3-none-any.whl (45 kB)\n",
            "\u001b[?25l\r\u001b[K     |███████▏                        | 10 kB 31.6 MB/s eta 0:00:01\r\u001b[K     |██████████████▎                 | 20 kB 33.3 MB/s eta 0:00:01\r\u001b[K     |█████████████████████▌          | 30 kB 19.4 MB/s eta 0:00:01\r\u001b[K     |████████████████████████████▋   | 40 kB 16.1 MB/s eta 0:00:01\r\u001b[K     |████████████████████████████████| 45 kB 3.7 MB/s \n",
            "\u001b[?25hCollecting tinycss2\n",
            "  Downloading tinycss2-1.1.0-py3-none-any.whl (21 kB)\n",
            "Requirement already satisfied: pillow in /usr/local/lib/python3.7/dist-packages (from CairoSVG) (7.1.2)\n",
            "Requirement already satisfied: defusedxml in /usr/local/lib/python3.7/dist-packages (from CairoSVG) (0.7.1)\n",
            "Collecting cairocffi\n",
            "  Downloading cairocffi-1.3.0.tar.gz (88 kB)\n",
            "\u001b[K     |████████████████████████████████| 88 kB 2.1 MB/s \n",
            "\u001b[?25hCollecting cssselect2\n",
            "  Downloading cssselect2-0.4.1-py3-none-any.whl (13 kB)\n",
            "Requirement already satisfied: cffi>=1.1.0 in /usr/local/lib/python3.7/dist-packages (from cairocffi->CairoSVG) (1.14.6)\n",
            "Requirement already satisfied: pycparser in /usr/local/lib/python3.7/dist-packages (from cffi>=1.1.0->cairocffi->CairoSVG) (2.20)\n",
            "Requirement already satisfied: webencodings in /usr/local/lib/python3.7/dist-packages (from cssselect2->CairoSVG) (0.5.1)\n",
            "Building wheels for collected packages: cairocffi\n",
            "  Building wheel for cairocffi (setup.py) ... \u001b[?25l\u001b[?25hdone\n",
            "  Created wheel for cairocffi: filename=cairocffi-1.3.0-py3-none-any.whl size=89667 sha256=dc23c95b90711c35d3c7d003cf1cc0a88ba69e3ffadc0d07b74758c0a3ce60a4\n",
            "  Stored in directory: /root/.cache/pip/wheels/4e/ca/e1/5c8a9692a27f639a07c949044bec943f26c81cd53d3805319f\n",
            "Successfully built cairocffi\n",
            "Installing collected packages: tinycss2, cssselect2, cairocffi, CairoSVG\n",
            "Successfully installed CairoSVG-2.5.2 cairocffi-1.3.0 cssselect2-0.4.1 tinycss2-1.1.0\n"
          ]
        }
      ]
    },
    {
      "cell_type": "code",
      "metadata": {
        "colab": {
          "base_uri": "https://localhost:8080/",
          "height": 420
        },
        "id": "-d8l6-kOsHAT",
        "outputId": "842ad4b3-1a06-4cb2-f068-4c62cff4e256"
      },
      "source": [
        "import pygal \n",
        "from pygal.style import Style\n",
        "custom_style = Style(colors=colors) #define colors\n",
        "\n",
        "treemap = pygal.Treemap(width=500, height=400, explicit_size=True,style=custom_style) # define size of the treemap\n",
        "treemap.title = 'Treemap with Pygal'\n",
        "\n",
        "#Treemap with sample dataframe\n",
        "treemap.add(df['labels'].iloc[0], df[\"values\"].iloc[0])\n",
        "treemap.add(df['labels'].iloc[1], df[\"values\"].iloc[1])\n",
        "treemap.add(df['labels'].iloc[2], df[\"values\"].iloc[2])\n",
        "treemap.add(df['labels'].iloc[3], df[\"values\"].iloc[3])\n",
        "treemap.add(df['labels'].iloc[4], df[\"values\"].iloc[4])\n",
        "treemap.add(df['labels'].iloc[5], df[\"values\"].iloc[5])\n",
        "treemap.add(df['labels'].iloc[6], df[\"values\"].iloc[6])\n",
        "treemap #render the treemap\n"
      ],
      "execution_count": 16,
      "outputs": [
        {
          "output_type": "execute_result",
          "data": {
            "image/png": "[encoded data removed]",
            "text/plain": [
              "<pygal.graph.treemap.Treemap at 0x7f7aa1c98d10>"
            ],
            "image/svg+xml": "<svg xmlns:xlink=\"http://www.w3.org/1999/xlink\" xmlns=\"http://www.w3.org/2000/svg\" id=\"chart-86517dfa-81b6-410b-948a-b58ba8e05f07\" class=\"pygal-chart\" viewBox=\"0 0 500 400\" width=\"500\" height=\"400\"><!--Generated with pygal 2.4.0 (lxml) ©Kozea 2012-2016 on 2021-10-26--><!--http://pygal.org--><!--http://github.com/Kozea/pygal--><defs><style type=\"text/css\">#chart-86517dfa-81b6-410b-948a-b58ba8e05f07{-webkit-user-select:none;-webkit-font-smoothing:antialiased;font-family:Consolas,\"Liberation Mono\",Menlo,Courier,monospace}#chart-86517dfa-81b6-410b-948a-b58ba8e05f07 .title{font-family:Consolas,\"Liberation Mono\",Menlo,Courier,monospace;font-size:16px}#chart-86517dfa-81b6-410b-948a-b58ba8e05f07 .legends .legend text{font-family:Consolas,\"Liberation Mono\",Menlo,Courier,monospace;font-size:14px}#chart-86517dfa-81b6-410b-948a-b58ba8e05f07 .axis text{font-family:Consolas,\"Liberation Mono\",Menlo,Courier,monospace;font-size:10px}#chart-86517dfa-81b6-410b-948a-b58ba8e05f07 .axis text.major{font-family:Consolas,\"Liberation Mono\",Menlo,Courier,monospace;font-size:10px}#chart-86517dfa-81b6-410b-948a-b58ba8e05f07 .text-overlay text.value{font-family:Consolas,\"Liberation Mono\",Menlo,Courier,monospace;font-size:16px}#chart-86517dfa-81b6-410b-948a-b58ba8e05f07 .text-overlay text.label{font-family:Consolas,\"Liberation Mono\",Menlo,Courier,monospace;font-size:10px}#chart-86517dfa-81b6-410b-948a-b58ba8e05f07 .tooltip{font-family:Consolas,\"Liberation Mono\",Menlo,Courier,monospace;font-size:14px}#chart-86517dfa-81b6-410b-948a-b58ba8e05f07 text.no_data{font-family:Consolas,\"Liberation Mono\",Menlo,Courier,monospace;font-size:64px}\n#chart-86517dfa-81b6-410b-948a-b58ba8e05f07{background-color:rgba(249,249,249,1)}#chart-86517dfa-81b6-410b-948a-b58ba8e05f07 path,#chart-86517dfa-81b6-410b-948a-b58ba8e05f07 line,#chart-86517dfa-81b6-410b-948a-b58ba8e05f07 rect,#chart-86517dfa-81b6-410b-948a-b58ba8e05f07 circle{-webkit-transition:150ms;-moz-transition:150ms;transition:150ms}#chart-86517dfa-81b6-410b-948a-b58ba8e05f07 .graph &gt; .background{fill:rgba(249,249,249,1)}#chart-86517dfa-81b6-410b-948a-b58ba8e05f07 .plot &gt; .background{fill:rgba(255,255,255,1)}#chart-86517dfa-81b6-410b-948a-b58ba8e05f07 .graph{fill:rgba(0,0,0,.87)}#chart-86517dfa-81b6-410b-948a-b58ba8e05f07 text.no_data{fill:rgba(0,0,0,1)}#chart-86517dfa-81b6-410b-948a-b58ba8e05f07 .title{fill:rgba(0,0,0,1)}#chart-86517dfa-81b6-410b-948a-b58ba8e05f07 .legends .legend text{fill:rgba(0,0,0,.87)}#chart-86517dfa-81b6-410b-948a-b58ba8e05f07 .legends .legend:hover text{fill:rgba(0,0,0,1)}#chart-86517dfa-81b6-410b-948a-b58ba8e05f07 .axis .line{stroke:rgba(0,0,0,1)}#chart-86517dfa-81b6-410b-948a-b58ba8e05f07 .axis .guide.line{stroke:rgba(0,0,0,.54)}#chart-86517dfa-81b6-410b-948a-b58ba8e05f07 .axis .major.line{stroke:rgba(0,0,0,.87)}#chart-86517dfa-81b6-410b-948a-b58ba8e05f07 .axis text.major{fill:rgba(0,0,0,1)}#chart-86517dfa-81b6-410b-948a-b58ba8e05f07 .axis.y .guides:hover .guide.line,#chart-86517dfa-81b6-410b-948a-b58ba8e05f07 .line-graph .axis.x .guides:hover .guide.line,#chart-86517dfa-81b6-410b-948a-b58ba8e05f07 .stackedline-graph .axis.x .guides:hover .guide.line,#chart-86517dfa-81b6-410b-948a-b58ba8e05f07 .xy-graph .axis.x .guides:hover .guide.line{stroke:rgba(0,0,0,1)}#chart-86517dfa-81b6-410b-948a-b58ba8e05f07 .axis .guides:hover text{fill:rgba(0,0,0,1)}#chart-86517dfa-81b6-410b-948a-b58ba8e05f07 .reactive{fill-opacity:.7;stroke-opacity:.8}#chart-86517dfa-81b6-410b-948a-b58ba8e05f07 .ci{stroke:rgba(0,0,0,.87)}#chart-86517dfa-81b6-410b-948a-b58ba8e05f07 .reactive.active,#chart-86517dfa-81b6-410b-948a-b58ba8e05f07 .active .reactive{fill-opacity:.8;stroke-opacity:.9;stroke-width:4}#chart-86517dfa-81b6-410b-948a-b58ba8e05f07 .ci .reactive.active{stroke-width:1.5}#chart-86517dfa-81b6-410b-948a-b58ba8e05f07 .series text{fill:rgba(0,0,0,1)}#chart-86517dfa-81b6-410b-948a-b58ba8e05f07 .tooltip rect{fill:rgba(255,255,255,1);stroke:rgba(0,0,0,1);-webkit-transition:opacity 150ms;-moz-transition:opacity 150ms;transition:opacity 150ms}#chart-86517dfa-81b6-410b-948a-b58ba8e05f07 .tooltip .label{fill:rgba(0,0,0,.87)}#chart-86517dfa-81b6-410b-948a-b58ba8e05f07 .tooltip .label{fill:rgba(0,0,0,.87)}#chart-86517dfa-81b6-410b-948a-b58ba8e05f07 .tooltip .legend{font-size:.8em;fill:rgba(0,0,0,.54)}#chart-86517dfa-81b6-410b-948a-b58ba8e05f07 .tooltip .x_label{font-size:.6em;fill:rgba(0,0,0,1)}#chart-86517dfa-81b6-410b-948a-b58ba8e05f07 .tooltip .xlink{font-size:.5em;text-decoration:underline}#chart-86517dfa-81b6-410b-948a-b58ba8e05f07 .tooltip .value{font-size:1.5em}#chart-86517dfa-81b6-410b-948a-b58ba8e05f07 .bound{font-size:.5em}#chart-86517dfa-81b6-410b-948a-b58ba8e05f07 .max-value{font-size:.75em;fill:rgba(0,0,0,.54)}#chart-86517dfa-81b6-410b-948a-b58ba8e05f07 .map-element{fill:rgba(255,255,255,1);stroke:rgba(0,0,0,.54) !important}#chart-86517dfa-81b6-410b-948a-b58ba8e05f07 .map-element .reactive{fill-opacity:inherit;stroke-opacity:inherit}#chart-86517dfa-81b6-410b-948a-b58ba8e05f07 .color-0,#chart-86517dfa-81b6-410b-948a-b58ba8e05f07 .color-0 a:visited{stroke:#fae588;fill:#fae588}#chart-86517dfa-81b6-410b-948a-b58ba8e05f07 .color-1,#chart-86517dfa-81b6-410b-948a-b58ba8e05f07 .color-1 a:visited{stroke:#f79d65;fill:#f79d65}#chart-86517dfa-81b6-410b-948a-b58ba8e05f07 .color-2,#chart-86517dfa-81b6-410b-948a-b58ba8e05f07 .color-2 a:visited{stroke:#f9dc5c;fill:#f9dc5c}#chart-86517dfa-81b6-410b-948a-b58ba8e05f07 .color-3,#chart-86517dfa-81b6-410b-948a-b58ba8e05f07 .color-3 a:visited{stroke:#e8ac65;fill:#e8ac65}#chart-86517dfa-81b6-410b-948a-b58ba8e05f07 .color-4,#chart-86517dfa-81b6-410b-948a-b58ba8e05f07 .color-4 a:visited{stroke:#d1ac09;fill:#d1ac09}#chart-86517dfa-81b6-410b-948a-b58ba8e05f07 .color-5,#chart-86517dfa-81b6-410b-948a-b58ba8e05f07 .color-5 a:visited{stroke:#ab4709;fill:#ab4709}#chart-86517dfa-81b6-410b-948a-b58ba8e05f07 .color-6,#chart-86517dfa-81b6-410b-948a-b58ba8e05f07 .color-6 a:visited{stroke:#a78906;fill:#a78906}#chart-86517dfa-81b6-410b-948a-b58ba8e05f07 .text-overlay .color-0 text{fill:black}#chart-86517dfa-81b6-410b-948a-b58ba8e05f07 .text-overlay .color-1 text{fill:black}#chart-86517dfa-81b6-410b-948a-b58ba8e05f07 .text-overlay .color-2 text{fill:black}#chart-86517dfa-81b6-410b-948a-b58ba8e05f07 .text-overlay .color-3 text{fill:black}#chart-86517dfa-81b6-410b-948a-b58ba8e05f07 .text-overlay .color-4 text{fill:black}#chart-86517dfa-81b6-410b-948a-b58ba8e05f07 .text-overlay .color-5 text{fill:black}#chart-86517dfa-81b6-410b-948a-b58ba8e05f07 .text-overlay .color-6 text{fill:black}\n#chart-86517dfa-81b6-410b-948a-b58ba8e05f07 text.no_data{text-anchor:middle}#chart-86517dfa-81b6-410b-948a-b58ba8e05f07 .guide.line{fill:none}#chart-86517dfa-81b6-410b-948a-b58ba8e05f07 .centered{text-anchor:middle}#chart-86517dfa-81b6-410b-948a-b58ba8e05f07 .title{text-anchor:middle}#chart-86517dfa-81b6-410b-948a-b58ba8e05f07 .legends .legend text{fill-opacity:1}#chart-86517dfa-81b6-410b-948a-b58ba8e05f07 .axis.x text{text-anchor:middle}#chart-86517dfa-81b6-410b-948a-b58ba8e05f07 .axis.x:not(.web) text[transform]{text-anchor:start}#chart-86517dfa-81b6-410b-948a-b58ba8e05f07 .axis.x:not(.web) text[transform].backwards{text-anchor:end}#chart-86517dfa-81b6-410b-948a-b58ba8e05f07 .axis.y text{text-anchor:end}#chart-86517dfa-81b6-410b-948a-b58ba8e05f07 .axis.y text[transform].backwards{text-anchor:start}#chart-86517dfa-81b6-410b-948a-b58ba8e05f07 .axis.y2 text{text-anchor:start}#chart-86517dfa-81b6-410b-948a-b58ba8e05f07 .axis.y2 text[transform].backwards{text-anchor:end}#chart-86517dfa-81b6-410b-948a-b58ba8e05f07 .axis .guide.line{stroke-dasharray:4,4}#chart-86517dfa-81b6-410b-948a-b58ba8e05f07 .axis .major.guide.line{stroke-dasharray:6,6}#chart-86517dfa-81b6-410b-948a-b58ba8e05f07 .horizontal .axis.y .guide.line,#chart-86517dfa-81b6-410b-948a-b58ba8e05f07 .horizontal .axis.y2 .guide.line,#chart-86517dfa-81b6-410b-948a-b58ba8e05f07 .vertical .axis.x .guide.line{opacity:0}#chart-86517dfa-81b6-410b-948a-b58ba8e05f07 .horizontal .axis.always_show .guide.line,#chart-86517dfa-81b6-410b-948a-b58ba8e05f07 .vertical .axis.always_show .guide.line{opacity:1 !important}#chart-86517dfa-81b6-410b-948a-b58ba8e05f07 .axis.y .guides:hover .guide.line,#chart-86517dfa-81b6-410b-948a-b58ba8e05f07 .axis.y2 .guides:hover .guide.line,#chart-86517dfa-81b6-410b-948a-b58ba8e05f07 .axis.x .guides:hover .guide.line{opacity:1}#chart-86517dfa-81b6-410b-948a-b58ba8e05f07 .axis .guides:hover text{opacity:1}#chart-86517dfa-81b6-410b-948a-b58ba8e05f07 .nofill{fill:none}#chart-86517dfa-81b6-410b-948a-b58ba8e05f07 .subtle-fill{fill-opacity:.2}#chart-86517dfa-81b6-410b-948a-b58ba8e05f07 .dot{stroke-width:1px;fill-opacity:1}#chart-86517dfa-81b6-410b-948a-b58ba8e05f07 .dot.active{stroke-width:5px}#chart-86517dfa-81b6-410b-948a-b58ba8e05f07 .dot.negative{fill:transparent}#chart-86517dfa-81b6-410b-948a-b58ba8e05f07 text,#chart-86517dfa-81b6-410b-948a-b58ba8e05f07 tspan{stroke:none !important}#chart-86517dfa-81b6-410b-948a-b58ba8e05f07 .series text.active{opacity:1}#chart-86517dfa-81b6-410b-948a-b58ba8e05f07 .tooltip rect{fill-opacity:.95;stroke-width:.5}#chart-86517dfa-81b6-410b-948a-b58ba8e05f07 .tooltip text{fill-opacity:1}#chart-86517dfa-81b6-410b-948a-b58ba8e05f07 .showable{visibility:hidden}#chart-86517dfa-81b6-410b-948a-b58ba8e05f07 .showable.shown{visibility:visible}#chart-86517dfa-81b6-410b-948a-b58ba8e05f07 .gauge-background{fill:rgba(229,229,229,1);stroke:none}#chart-86517dfa-81b6-410b-948a-b58ba8e05f07 .bg-lines{stroke:rgba(249,249,249,1);stroke-width:2px}</style><script type=\"text/javascript\">window.pygal = window.pygal || {};window.pygal.config = window.pygal.config || {};window.pygal.config['86517dfa-81b6-410b-948a-b58ba8e05f07'] = {\"allow_interruptions\": false, \"box_mode\": \"extremes\", \"classes\": [\"pygal-chart\"], \"css\": [\"file://style.css\", \"file://graph.css\"], \"defs\": [], \"disable_xml_declaration\": true, \"dots_size\": 2.5, \"dynamic_print_values\": false, \"explicit_size\": true, \"fill\": false, \"force_uri_protocol\": \"https\", \"formatter\": null, \"half_pie\": false, \"height\": 400, \"include_x_axis\": false, \"inner_radius\": 0, \"interpolate\": null, \"interpolation_parameters\": {}, \"interpolation_precision\": 250, \"inverse_y_axis\": false, \"js\": [\"//kozea.github.io/pygal.js/2.0.x/pygal-tooltips.min.js\"], \"legend_at_bottom\": false, \"legend_at_bottom_columns\": null, \"legend_box_size\": 12, \"logarithmic\": false, \"margin\": 20, \"margin_bottom\": null, \"margin_left\": null, \"margin_right\": null, \"margin_top\": null, \"max_scale\": 16, \"min_scale\": 4, \"missing_value_fill_truncation\": \"x\", \"no_data_text\": \"No data\", \"no_prefix\": false, \"order_min\": null, \"pretty_print\": false, \"print_labels\": false, \"print_values\": false, \"print_values_position\": \"center\", \"print_zeroes\": true, \"range\": null, \"rounded_bars\": null, \"secondary_range\": null, \"show_dots\": true, \"show_legend\": true, \"show_minor_x_labels\": true, \"show_minor_y_labels\": true, \"show_only_major_dots\": false, \"show_x_guides\": false, \"show_x_labels\": true, \"show_y_guides\": true, \"show_y_labels\": true, \"spacing\": 10, \"stack_from_top\": false, \"strict\": false, \"stroke\": true, \"stroke_style\": null, \"style\": {\"background\": \"rgba(249, 249, 249, 1)\", \"ci_colors\": [], \"colors\": [\"#fae588\", \"#f79d65\", \"#f9dc5c\", \"#e8ac65\"], \"font_family\": \"Consolas, \\\"Liberation Mono\\\", Menlo, Courier, monospace\", \"foreground\": \"rgba(0, 0, 0, .87)\", \"foreground_strong\": \"rgba(0, 0, 0, 1)\", \"foreground_subtle\": \"rgba(0, 0, 0, .54)\", \"guide_stroke_dasharray\": \"4,4\", \"label_font_family\": \"Consolas, \\\"Liberation Mono\\\", Menlo, Courier, monospace\", \"label_font_size\": 10, \"legend_font_family\": \"Consolas, \\\"Liberation Mono\\\", Menlo, Courier, monospace\", \"legend_font_size\": 14, \"major_guide_stroke_dasharray\": \"6,6\", \"major_label_font_family\": \"Consolas, \\\"Liberation Mono\\\", Menlo, Courier, monospace\", \"major_label_font_size\": 10, \"no_data_font_family\": \"Consolas, \\\"Liberation Mono\\\", Menlo, Courier, monospace\", \"no_data_font_size\": 64, \"opacity\": \".7\", \"opacity_hover\": \".8\", \"plot_background\": \"rgba(255, 255, 255, 1)\", \"stroke_opacity\": \".8\", \"stroke_opacity_hover\": \".9\", \"title_font_family\": \"Consolas, \\\"Liberation Mono\\\", Menlo, Courier, monospace\", \"title_font_size\": 16, \"tooltip_font_family\": \"Consolas, \\\"Liberation Mono\\\", Menlo, Courier, monospace\", \"tooltip_font_size\": 14, \"transition\": \"150ms\", \"value_background\": \"rgba(229, 229, 229, 1)\", \"value_colors\": [], \"value_font_family\": \"Consolas, \\\"Liberation Mono\\\", Menlo, Courier, monospace\", \"value_font_size\": 16, \"value_label_font_family\": \"Consolas, \\\"Liberation Mono\\\", Menlo, Courier, monospace\", \"value_label_font_size\": 10}, \"title\": \"Treemap with Pygal\", \"tooltip_border_radius\": 0, \"tooltip_fancy_mode\": true, \"truncate_label\": null, \"truncate_legend\": null, \"width\": 500, \"x_label_rotation\": 0, \"x_labels\": null, \"x_labels_major\": null, \"x_labels_major_count\": null, \"x_labels_major_every\": null, \"x_title\": null, \"xrange\": null, \"y_label_rotation\": 0, \"y_labels\": null, \"y_labels_major\": null, \"y_labels_major_count\": null, \"y_labels_major_every\": null, \"y_title\": null, \"zero\": 0, \"legends\": [\"A\", \"B\", \"C\", \"D\", \"E\", \"F\", \"G\"]}</script><script type=\"text/javascript\" xlink:href=\"https://kozea.github.io/pygal.js/2.0.x/pygal-tooltips.min.js\"/></defs><title>Treemap with Pygal</title><g class=\"graph treemap-graph vertical\"><rect class=\"background\" height=\"400\" width=\"500\" x=\"0\" y=\"0\"/><g class=\"plot\" transform=\"translate(50, 46)\"><rect class=\"background\" height=\"334\" width=\"429.6\" x=\"0\" y=\"0\"/><g class=\"series serie-0 color-0\"><g class=\"rects\"><g class=\"rect\"><rect class=\"rect reactive tooltip-trigger\" height=\"65.42022792022794\" width=\"119.28424516659813\" x=\"8.261538461538462\" y=\"262.15669515669515\"/><desc class=\"value\">10</desc><desc class=\"x centered\">67.90366104483752</desc><desc class=\"y centered\">294.8668091168091</desc></g></g></g><g class=\"series serie-1 color-1\"><g class=\"rects\"><g class=\"rect\"><rect class=\"rect reactive tooltip-trigger\" height=\"130.84045584045586\" width=\"119.28424516659813\" x=\"8.261538461538462\" y=\"131.3162393162393\"/><desc class=\"value\">20</desc><desc class=\"x centered\">67.90366104483752</desc><desc class=\"y centered\">196.7364672364672</desc></g></g></g><g class=\"series serie-2 color-2\"><g class=\"rects\"><g class=\"rect\"><rect class=\"rect reactive tooltip-trigger\" height=\"196.2606837606838\" width=\"99.40353763883179\" x=\"127.54578362813659\" y=\"131.3162393162393\"/><desc class=\"value\">25</desc><desc class=\"x centered\">177.2475524475525</desc><desc class=\"y centered\">229.44658119658118</desc></g></g></g><g class=\"series serie-3 color-3\"><g class=\"rects\"><g class=\"rect\"><rect class=\"rect reactive tooltip-trigger\" height=\"124.89316239316233\" width=\"218.68778280542992\" x=\"8.261538461538462\" y=\"6.423076923076962\"/><desc class=\"value\">35</desc><desc class=\"x centered\">117.60542986425342</desc><desc class=\"y centered\">68.86965811965813</desc></g></g></g><g class=\"series serie-4 color-4\"><g class=\"rects\"><g class=\"rect\"><rect class=\"rect reactive tooltip-trigger\" height=\"40.144230769230774\" width=\"194.38914027149318\" x=\"226.94932126696838\" y=\"287.4326923076923\"/><desc class=\"value\">10</desc><desc class=\"x centered\">324.143891402715</desc><desc class=\"y centered\">307.50480769230774</desc></g></g></g><g class=\"series serie-5 color-5\"><g class=\"rects\"><g class=\"rect\"><rect class=\"rect reactive tooltip-trigger\" height=\"100.36057692307693\" width=\"194.38914027149318\" x=\"226.94932126696838\" y=\"187.0721153846154\"/><desc class=\"value\">25</desc><desc class=\"x centered\">324.143891402715</desc><desc class=\"y centered\">237.25240384615387</desc></g></g></g><g class=\"series serie-6 color-6\"><g class=\"rects\"><g class=\"rect\"><rect class=\"rect reactive tooltip-trigger\" height=\"180.64903846153842\" width=\"194.38914027149318\" x=\"226.94932126696838\" y=\"6.423076923076962\"/><desc class=\"value\">45</desc><desc class=\"x centered\">324.143891402715</desc><desc class=\"y centered\">96.74759615384617</desc></g></g></g></g><g class=\"titles\"><text class=\"title plot_title\" x=\"250.0\" y=\"26\">Treemap with Pygal</text></g><g class=\"plot overlay\" transform=\"translate(50, 46)\"><g class=\"series serie-0 color-0\"/><g class=\"series serie-1 color-1\"/><g class=\"series serie-2 color-2\"/><g class=\"series serie-3 color-3\"/><g class=\"series serie-4 color-4\"/><g class=\"series serie-5 color-5\"/><g class=\"series serie-6 color-6\"/></g><g class=\"plot text-overlay\" transform=\"translate(50, 46)\"><g class=\"series serie-0 color-0\"/><g class=\"series serie-1 color-1\"/><g class=\"series serie-2 color-2\"/><g class=\"series serie-3 color-3\"/><g class=\"series serie-4 color-4\"/><g class=\"series serie-5 color-5\"/><g class=\"series serie-6 color-6\"/></g><g class=\"plot tooltip-overlay\" transform=\"translate(50, 46)\"><g class=\"tooltip\" style=\"opacity: 0\" transform=\"translate(0 0)\"><rect class=\"tooltip-box\" height=\"0\" rx=\"0\" ry=\"0\" width=\"0\"/><g class=\"text\"/></g></g><g class=\"legends\" transform=\"translate(10, 56)\"><g class=\"legend reactive activate-serie\" id=\"activate-serie-0\"><rect class=\"color-0 reactive\" height=\"12\" width=\"12\" x=\"0.0\" y=\"1.0\"/><text x=\"17.0\" y=\"11.2\">A</text></g><g class=\"legend reactive activate-serie\" id=\"activate-serie-1\"><rect class=\"color-1 reactive\" height=\"12\" width=\"12\" x=\"0.0\" y=\"22.0\"/><text x=\"17.0\" y=\"32.2\">B</text></g><g class=\"legend reactive activate-serie\" id=\"activate-serie-2\"><rect class=\"color-2 reactive\" height=\"12\" width=\"12\" x=\"0.0\" y=\"43.0\"/><text x=\"17.0\" y=\"53.2\">C</text></g><g class=\"legend reactive activate-serie\" id=\"activate-serie-3\"><rect class=\"color-3 reactive\" height=\"12\" width=\"12\" x=\"0.0\" y=\"64.0\"/><text x=\"17.0\" y=\"74.2\">D</text></g><g class=\"legend reactive activate-serie\" id=\"activate-serie-4\"><rect class=\"color-4 reactive\" height=\"12\" width=\"12\" x=\"0.0\" y=\"85.0\"/><text x=\"17.0\" y=\"95.2\">E</text></g><g class=\"legend reactive activate-serie\" id=\"activate-serie-5\"><rect class=\"color-5 reactive\" height=\"12\" width=\"12\" x=\"0.0\" y=\"106.0\"/><text x=\"17.0\" y=\"116.2\">F</text></g><g class=\"legend reactive activate-serie\" id=\"activate-serie-6\"><rect class=\"color-6 reactive\" height=\"12\" width=\"12\" x=\"0.0\" y=\"127.0\"/><text x=\"17.0\" y=\"137.2\">G</text></g></g><g class=\"legends\" transform=\"translate(490, 56)\"/></g></svg>"
          },
          "metadata": {},
          "execution_count": 16
        }
      ]
    },
    {
      "cell_type": "markdown",
      "metadata": {
        "id": "JBY_SxlM5tyj"
      },
      "source": [
        "#3. Creating a TreeMap with Plotly"
      ]
    },
    {
      "cell_type": "code",
      "metadata": {
        "colab": {
          "base_uri": "https://localhost:8080/",
          "height": 417
        },
        "id": "UCchieQasHDm",
        "outputId": "b03780ee-9965-4edb-9861-6a529bb63a59"
      },
      "source": [
        "import plotly.express as px\n",
        "fig = px.treemap(df, path=['labels'],values='values', title=\"Treemap with Plotly\",width=800, height=400)\n",
        "fig.update_layout(\n",
        "    treemapcolorway = colors, #defines the colors in the treemap\n",
        "    margin = dict(t=50, l=25, r=25, b=25))\n",
        "fig.show()"
      ],
      "execution_count": 17,
      "outputs": [
        {
          "output_type": "display_data",
          "data": {
            "text/html": [
              "<html>\n",
              "<head><meta charset=\"utf-8\" /></head>\n",
              "<body>\n",
              "    <div>            <script src=\"https://cdnjs.cloudflare.com/ajax/libs/mathjax/2.7.5/MathJax.js?config=TeX-AMS-MML_SVG\"></script><script type=\"text/javascript\">if (window.MathJax) {MathJax.Hub.Config({SVG: {font: \"STIX-Web\"}});}</script>                <script type=\"text/javascript\">window.PlotlyConfig = {MathJaxConfig: 'local'};</script>\n",
              "        <script src=\"https://cdn.plot.ly/plotly-2.4.2.min.js\"></script>                <div id=\"c385b23e-301d-41d2-b6ff-c7198332a45e\" class=\"plotly-graph-div\" style=\"height:400px; width:800px;\"></div>            <script type=\"text/javascript\">                                    window.PLOTLYENV=window.PLOTLYENV || {};                                    if (document.getElementById(\"c385b23e-301d-41d2-b6ff-c7198332a45e\")) {                    Plotly.newPlot(                        \"c385b23e-301d-41d2-b6ff-c7198332a45e\",                        [{\"branchvalues\":\"total\",\"domain\":{\"x\":[0.0,1.0],\"y\":[0.0,1.0]},\"hovertemplate\":\"labels=%{label}<br>value=%{value}<br>parent=%{parent}<br>id=%{id}<extra></extra>\",\"ids\":[\"A\",\"B\",\"C\",\"D\",\"E\",\"F\",\"G\"],\"labels\":[\"A\",\"B\",\"C\",\"D\",\"E\",\"F\",\"G\"],\"name\":\"\",\"parents\":[\"\",\"\",\"\",\"\",\"\",\"\",\"\"],\"type\":\"treemap\",\"values\":[10,20,25,35,10,25,45]}],                        {\"height\":400,\"legend\":{\"tracegroupgap\":0},\"margin\":{\"b\":25,\"l\":25,\"r\":25,\"t\":50},\"template\":{\"data\":{\"bar\":[{\"error_x\":{\"color\":\"#2a3f5f\"},\"error_y\":{\"color\":\"#2a3f5f\"},\"marker\":{\"line\":{\"color\":\"#E5ECF6\",\"width\":0.5},\"pattern\":{\"fillmode\":\"overlay\",\"size\":10,\"solidity\":0.2}},\"type\":\"bar\"}],\"barpolar\":[{\"marker\":{\"line\":{\"color\":\"#E5ECF6\",\"width\":0.5},\"pattern\":{\"fillmode\":\"overlay\",\"size\":10,\"solidity\":0.2}},\"type\":\"barpolar\"}],\"carpet\":[{\"aaxis\":{\"endlinecolor\":\"#2a3f5f\",\"gridcolor\":\"white\",\"linecolor\":\"white\",\"minorgridcolor\":\"white\",\"startlinecolor\":\"#2a3f5f\"},\"baxis\":{\"endlinecolor\":\"#2a3f5f\",\"gridcolor\":\"white\",\"linecolor\":\"white\",\"minorgridcolor\":\"white\",\"startlinecolor\":\"#2a3f5f\"},\"type\":\"carpet\"}],\"choropleth\":[{\"colorbar\":{\"outlinewidth\":0,\"ticks\":\"\"},\"type\":\"choropleth\"}],\"contour\":[{\"colorbar\":{\"outlinewidth\":0,\"ticks\":\"\"},\"colorscale\":[[0.0,\"#0d0887\"],[0.1111111111111111,\"#46039f\"],[0.2222222222222222,\"#7201a8\"],[0.3333333333333333,\"#9c179e\"],[0.4444444444444444,\"#bd3786\"],[0.5555555555555556,\"#d8576b\"],[0.6666666666666666,\"#ed7953\"],[0.7777777777777778,\"#fb9f3a\"],[0.8888888888888888,\"#fdca26\"],[1.0,\"#f0f921\"]],\"type\":\"contour\"}],\"contourcarpet\":[{\"colorbar\":{\"outlinewidth\":0,\"ticks\":\"\"},\"type\":\"contourcarpet\"}],\"heatmap\":[{\"colorbar\":{\"outlinewidth\":0,\"ticks\":\"\"},\"colorscale\":[[0.0,\"#0d0887\"],[0.1111111111111111,\"#46039f\"],[0.2222222222222222,\"#7201a8\"],[0.3333333333333333,\"#9c179e\"],[0.4444444444444444,\"#bd3786\"],[0.5555555555555556,\"#d8576b\"],[0.6666666666666666,\"#ed7953\"],[0.7777777777777778,\"#fb9f3a\"],[0.8888888888888888,\"#fdca26\"],[1.0,\"#f0f921\"]],\"type\":\"heatmap\"}],\"heatmapgl\":[{\"colorbar\":{\"outlinewidth\":0,\"ticks\":\"\"},\"colorscale\":[[0.0,\"#0d0887\"],[0.1111111111111111,\"#46039f\"],[0.2222222222222222,\"#7201a8\"],[0.3333333333333333,\"#9c179e\"],[0.4444444444444444,\"#bd3786\"],[0.5555555555555556,\"#d8576b\"],[0.6666666666666666,\"#ed7953\"],[0.7777777777777778,\"#fb9f3a\"],[0.8888888888888888,\"#fdca26\"],[1.0,\"#f0f921\"]],\"type\":\"heatmapgl\"}],\"histogram\":[{\"marker\":{\"pattern\":{\"fillmode\":\"overlay\",\"size\":10,\"solidity\":0.2}},\"type\":\"histogram\"}],\"histogram2d\":[{\"colorbar\":{\"outlinewidth\":0,\"ticks\":\"\"},\"colorscale\":[[0.0,\"#0d0887\"],[0.1111111111111111,\"#46039f\"],[0.2222222222222222,\"#7201a8\"],[0.3333333333333333,\"#9c179e\"],[0.4444444444444444,\"#bd3786\"],[0.5555555555555556,\"#d8576b\"],[0.6666666666666666,\"#ed7953\"],[0.7777777777777778,\"#fb9f3a\"],[0.8888888888888888,\"#fdca26\"],[1.0,\"#f0f921\"]],\"type\":\"histogram2d\"}],\"histogram2dcontour\":[{\"colorbar\":{\"outlinewidth\":0,\"ticks\":\"\"},\"colorscale\":[[0.0,\"#0d0887\"],[0.1111111111111111,\"#46039f\"],[0.2222222222222222,\"#7201a8\"],[0.3333333333333333,\"#9c179e\"],[0.4444444444444444,\"#bd3786\"],[0.5555555555555556,\"#d8576b\"],[0.6666666666666666,\"#ed7953\"],[0.7777777777777778,\"#fb9f3a\"],[0.8888888888888888,\"#fdca26\"],[1.0,\"#f0f921\"]],\"type\":\"histogram2dcontour\"}],\"mesh3d\":[{\"colorbar\":{\"outlinewidth\":0,\"ticks\":\"\"},\"type\":\"mesh3d\"}],\"parcoords\":[{\"line\":{\"colorbar\":{\"outlinewidth\":0,\"ticks\":\"\"}},\"type\":\"parcoords\"}],\"pie\":[{\"automargin\":true,\"type\":\"pie\"}],\"scatter\":[{\"marker\":{\"colorbar\":{\"outlinewidth\":0,\"ticks\":\"\"}},\"type\":\"scatter\"}],\"scatter3d\":[{\"line\":{\"colorbar\":{\"outlinewidth\":0,\"ticks\":\"\"}},\"marker\":{\"colorbar\":{\"outlinewidth\":0,\"ticks\":\"\"}},\"type\":\"scatter3d\"}],\"scattercarpet\":[{\"marker\":{\"colorbar\":{\"outlinewidth\":0,\"ticks\":\"\"}},\"type\":\"scattercarpet\"}],\"scattergeo\":[{\"marker\":{\"colorbar\":{\"outlinewidth\":0,\"ticks\":\"\"}},\"type\":\"scattergeo\"}],\"scattergl\":[{\"marker\":{\"colorbar\":{\"outlinewidth\":0,\"ticks\":\"\"}},\"type\":\"scattergl\"}],\"scattermapbox\":[{\"marker\":{\"colorbar\":{\"outlinewidth\":0,\"ticks\":\"\"}},\"type\":\"scattermapbox\"}],\"scatterpolar\":[{\"marker\":{\"colorbar\":{\"outlinewidth\":0,\"ticks\":\"\"}},\"type\":\"scatterpolar\"}],\"scatterpolargl\":[{\"marker\":{\"colorbar\":{\"outlinewidth\":0,\"ticks\":\"\"}},\"type\":\"scatterpolargl\"}],\"scatterternary\":[{\"marker\":{\"colorbar\":{\"outlinewidth\":0,\"ticks\":\"\"}},\"type\":\"scatterternary\"}],\"surface\":[{\"colorbar\":{\"outlinewidth\":0,\"ticks\":\"\"},\"colorscale\":[[0.0,\"#0d0887\"],[0.1111111111111111,\"#46039f\"],[0.2222222222222222,\"#7201a8\"],[0.3333333333333333,\"#9c179e\"],[0.4444444444444444,\"#bd3786\"],[0.5555555555555556,\"#d8576b\"],[0.6666666666666666,\"#ed7953\"],[0.7777777777777778,\"#fb9f3a\"],[0.8888888888888888,\"#fdca26\"],[1.0,\"#f0f921\"]],\"type\":\"surface\"}],\"table\":[{\"cells\":{\"fill\":{\"color\":\"#EBF0F8\"},\"line\":{\"color\":\"white\"}},\"header\":{\"fill\":{\"color\":\"#C8D4E3\"},\"line\":{\"color\":\"white\"}},\"type\":\"table\"}]},\"layout\":{\"annotationdefaults\":{\"arrowcolor\":\"#2a3f5f\",\"arrowhead\":0,\"arrowwidth\":1},\"autotypenumbers\":\"strict\",\"coloraxis\":{\"colorbar\":{\"outlinewidth\":0,\"ticks\":\"\"}},\"colorscale\":{\"diverging\":[[0,\"#8e0152\"],[0.1,\"#c51b7d\"],[0.2,\"#de77ae\"],[0.3,\"#f1b6da\"],[0.4,\"#fde0ef\"],[0.5,\"#f7f7f7\"],[0.6,\"#e6f5d0\"],[0.7,\"#b8e186\"],[0.8,\"#7fbc41\"],[0.9,\"#4d9221\"],[1,\"#276419\"]],\"sequential\":[[0.0,\"#0d0887\"],[0.1111111111111111,\"#46039f\"],[0.2222222222222222,\"#7201a8\"],[0.3333333333333333,\"#9c179e\"],[0.4444444444444444,\"#bd3786\"],[0.5555555555555556,\"#d8576b\"],[0.6666666666666666,\"#ed7953\"],[0.7777777777777778,\"#fb9f3a\"],[0.8888888888888888,\"#fdca26\"],[1.0,\"#f0f921\"]],\"sequentialminus\":[[0.0,\"#0d0887\"],[0.1111111111111111,\"#46039f\"],[0.2222222222222222,\"#7201a8\"],[0.3333333333333333,\"#9c179e\"],[0.4444444444444444,\"#bd3786\"],[0.5555555555555556,\"#d8576b\"],[0.6666666666666666,\"#ed7953\"],[0.7777777777777778,\"#fb9f3a\"],[0.8888888888888888,\"#fdca26\"],[1.0,\"#f0f921\"]]},\"colorway\":[\"#636efa\",\"#EF553B\",\"#00cc96\",\"#ab63fa\",\"#FFA15A\",\"#19d3f3\",\"#FF6692\",\"#B6E880\",\"#FF97FF\",\"#FECB52\"],\"font\":{\"color\":\"#2a3f5f\"},\"geo\":{\"bgcolor\":\"white\",\"lakecolor\":\"white\",\"landcolor\":\"#E5ECF6\",\"showlakes\":true,\"showland\":true,\"subunitcolor\":\"white\"},\"hoverlabel\":{\"align\":\"left\"},\"hovermode\":\"closest\",\"mapbox\":{\"style\":\"light\"},\"paper_bgcolor\":\"white\",\"plot_bgcolor\":\"#E5ECF6\",\"polar\":{\"angularaxis\":{\"gridcolor\":\"white\",\"linecolor\":\"white\",\"ticks\":\"\"},\"bgcolor\":\"#E5ECF6\",\"radialaxis\":{\"gridcolor\":\"white\",\"linecolor\":\"white\",\"ticks\":\"\"}},\"scene\":{\"xaxis\":{\"backgroundcolor\":\"#E5ECF6\",\"gridcolor\":\"white\",\"gridwidth\":2,\"linecolor\":\"white\",\"showbackground\":true,\"ticks\":\"\",\"zerolinecolor\":\"white\"},\"yaxis\":{\"backgroundcolor\":\"#E5ECF6\",\"gridcolor\":\"white\",\"gridwidth\":2,\"linecolor\":\"white\",\"showbackground\":true,\"ticks\":\"\",\"zerolinecolor\":\"white\"},\"zaxis\":{\"backgroundcolor\":\"#E5ECF6\",\"gridcolor\":\"white\",\"gridwidth\":2,\"linecolor\":\"white\",\"showbackground\":true,\"ticks\":\"\",\"zerolinecolor\":\"white\"}},\"shapedefaults\":{\"line\":{\"color\":\"#2a3f5f\"}},\"ternary\":{\"aaxis\":{\"gridcolor\":\"white\",\"linecolor\":\"white\",\"ticks\":\"\"},\"baxis\":{\"gridcolor\":\"white\",\"linecolor\":\"white\",\"ticks\":\"\"},\"bgcolor\":\"#E5ECF6\",\"caxis\":{\"gridcolor\":\"white\",\"linecolor\":\"white\",\"ticks\":\"\"}},\"title\":{\"x\":0.05},\"xaxis\":{\"automargin\":true,\"gridcolor\":\"white\",\"linecolor\":\"white\",\"ticks\":\"\",\"title\":{\"standoff\":15},\"zerolinecolor\":\"white\",\"zerolinewidth\":2},\"yaxis\":{\"automargin\":true,\"gridcolor\":\"white\",\"linecolor\":\"white\",\"ticks\":\"\",\"title\":{\"standoff\":15},\"zerolinecolor\":\"white\",\"zerolinewidth\":2}}},\"title\":{\"text\":\"Treemap with Plotly\"},\"treemapcolorway\":[\"#fae588\",\"#f79d65\",\"#f9dc5c\",\"#e8ac65\"],\"width\":800},                        {\"responsive\": true}                    ).then(function(){\n",
              "                            \n",
              "var gd = document.getElementById('c385b23e-301d-41d2-b6ff-c7198332a45e');\n",
              "var x = new MutationObserver(function (mutations, observer) {{\n",
              "        var display = window.getComputedStyle(gd).display;\n",
              "        if (!display || display === 'none') {{\n",
              "            console.log([gd, 'removed!']);\n",
              "            Plotly.purge(gd);\n",
              "            observer.disconnect();\n",
              "        }}\n",
              "}});\n",
              "\n",
              "// Listen for the removal of the full notebook cells\n",
              "var notebookContainer = gd.closest('#notebook-container');\n",
              "if (notebookContainer) {{\n",
              "    x.observe(notebookContainer, {childList: true});\n",
              "}}\n",
              "\n",
              "// Listen for the clearing of the current output cell\n",
              "var outputEl = gd.closest('.output');\n",
              "if (outputEl) {{\n",
              "    x.observe(outputEl, {childList: true});\n",
              "}}\n",
              "\n",
              "                        })                };                            </script>        </div>\n",
              "</body>\n",
              "</html>"
            ]
          },
          "metadata": {}
        }
      ]
    }
  ]
}